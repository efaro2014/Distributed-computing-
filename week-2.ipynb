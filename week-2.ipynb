{
 "cells": [
  {
   "cell_type": "code",
   "execution_count": 1,
   "metadata": {},
   "outputs": [],
   "source": [
    "from pyspark.sql import SparkSession\n",
    "from pyspark.sql.types import *\n",
    "\n",
    "def IntegerSafe(value): # In case there are non-integer type to be converted.\n",
    "    try:\n",
    "        return int(value)\n",
    "    except ValueError:\n",
    "        return None\n",
    "\n",
    "ss = SparkSession.builder.getOrCreate()\n",
    "sc = ss.sparkContext\n",
    "\n",
    "business = sc.textFile(\"../Data/filtered_registered_business_sf.csv\")\\\n",
    "             .map(lambda x : x.split(','))\\\n",
    "             .map(lambda x : (IntegerSafe(x[0]), x[1], x[2], x[3], x[4]))\n",
    "              \n",
    "\n",
    "schema = StructType([ StructField(\"zip\", IntegerType(), True),\n",
    "                      StructField(\"name\", StringType(), False),\n",
    "                      StructField(\"street\", StringType(), True),\n",
    "                      StructField(\"city\", StringType(), True),\n",
    "                      StructField(\"state\", StringType(), True)\n",
    "                    ])\n",
    "\n",
    "business_df = ss.createDataFrame(business, schema)\n"
   ]
  },
  {
   "cell_type": "code",
   "execution_count": 2,
   "metadata": {},
   "outputs": [
    {
     "name": "stdout",
     "output_type": "stream",
     "text": [
      "+-----+--------------------+--------------------+-------------+-----+\n",
      "|  zip|                name|              street|         city|state|\n",
      "+-----+--------------------+--------------------+-------------+-----+\n",
      "|94123|   Tournahu George L|   3301 Broderick St|San Francisco|   CA|\n",
      "|94124|Stephens Institut...|    2225 Jerrold Ave|San Francisco|   CA|\n",
      "|94105|Stephens Institut...|180 New Montgomer...|San Francisco|   CA|\n",
      "|94108|Stephens Institut...|       540 Powell St|San Francisco|   CA|\n",
      "|94107|Stephens Institut...|     460 Townsend St|San Francisco|   CA|\n",
      "+-----+--------------------+--------------------+-------------+-----+\n",
      "only showing top 5 rows\n",
      "\n"
     ]
    }
   ],
   "source": [
    "business_df.show(5)"
   ]
  },
  {
   "cell_type": "markdown",
   "metadata": {},
   "source": [
    "# print 5 zip code with the most businesses"
   ]
  },
  {
   "cell_type": "code",
   "execution_count": 3,
   "metadata": {},
   "outputs": [
    {
     "name": "stdout",
     "output_type": "stream",
     "text": [
      "+-----+-----+\n",
      "|  zip|count|\n",
      "+-----+-----+\n",
      "|94110|12459|\n",
      "|94103|10919|\n",
      "|94109| 9623|\n",
      "|94107| 9394|\n",
      "|94102| 7962|\n",
      "+-----+-----+\n",
      "only showing top 5 rows\n",
      "\n"
     ]
    }
   ],
   "source": [
    "business_df.groupBy('zip').count().orderBy('count', ascending =False).show(5)\n",
    "                                                                          "
   ]
  },
  {
   "cell_type": "markdown",
   "metadata": {},
   "source": [
    "# Create a column named \"onHoward\" to see whether it is on Howard street"
   ]
  },
  {
   "cell_type": "code",
   "execution_count": 4,
   "metadata": {},
   "outputs": [
    {
     "name": "stdout",
     "output_type": "stream",
     "text": [
      "+-----+--------------------+--------------+-------------+-----+--------+\n",
      "|  zip|                name|        street|         city|state|onHoward|\n",
      "+-----+--------------------+--------------+-------------+-----+--------+\n",
      "|94105|Stephens Institut...| 631 Howard St|San Francisco|   CA|    true|\n",
      "|94103|Anderson Enterpri...|1525 Howard St|San Francisco|   CA|    true|\n",
      "|94103|Avis Rent A Car S...| 821 Howard St|San Francisco|   CA|    true|\n",
      "|94103|German Motors Cor...|1675 Howard St|San Francisco|   CA|    true|\n",
      "|94103|German Motors Cor...|1675 Howard St|San Francisco|   CA|    true|\n",
      "+-----+--------------------+--------------+-------------+-----+--------+\n",
      "only showing top 5 rows\n",
      "\n"
     ]
    }
   ],
   "source": [
    "business_df.withColumn('onHoward', business_df['street'].contains('Howard')).filter('onHoward == True').show(5)"
   ]
  },
  {
   "cell_type": "code",
   "execution_count": 5,
   "metadata": {},
   "outputs": [],
   "source": [
    "status = sc.textFile(\"../Data/status_million.csv\")\n"
   ]
  },
  {
   "cell_type": "code",
   "execution_count": 6,
   "metadata": {},
   "outputs": [],
   "source": [
    "from datetime import datetime\n",
    "def toIntSafe(inval):\n",
    "  try:\n",
    "    return int(inval)\n",
    "  except ValueError:\n",
    "    return None\n",
    "\n",
    "def toTimeSafe(inval):\n",
    "  inval = inval.strip(\"\\\"\") # Timestamp starting and ending with a double quotation mark.\n",
    "  try:\n",
    "    return datetime.strptime(inval, \"%Y-%m-%d %H:%M:%S\")\n",
    "  except ValueError:\n",
    "    return None\n"
   ]
  },
  {
   "cell_type": "code",
   "execution_count": 7,
   "metadata": {},
   "outputs": [],
   "source": [
    "schema = StructType([ StructField(\"station_id\", IntegerType(), False),\n",
    "                      StructField(\"num_bikes_available\", IntegerType(), True),\n",
    "                      StructField(\"num_docks_available\", IntegerType(), True),\n",
    "                      StructField(\"timestamp\", TimestampType(), True)\n",
    "                    ])\n"
   ]
  },
  {
   "cell_type": "code",
   "execution_count": 8,
   "metadata": {},
   "outputs": [],
   "source": [
    "status_transformed = status.map(lambda x : x.split(\",\"))\\\n",
    "                           .map(lambda x : (int(x[0]), toIntSafe(x[1]), toIntSafe(x[2]), toTimeSafe(x[3])))\n"
   ]
  },
  {
   "cell_type": "code",
   "execution_count": 9,
   "metadata": {},
   "outputs": [
    {
     "data": {
      "text/plain": [
       "MapPartitionsRDD[21] at mapPartitions at PythonRDD.scala:133"
      ]
     },
     "execution_count": 9,
     "metadata": {},
     "output_type": "execute_result"
    }
   ],
   "source": [
    "status_transformed.partitionBy(10).cache()"
   ]
  },
  {
   "cell_type": "code",
   "execution_count": 10,
   "metadata": {},
   "outputs": [],
   "source": [
    "status_df = ss.createDataFrame(status_transformed, schema)"
   ]
  },
  {
   "cell_type": "code",
   "execution_count": 11,
   "metadata": {},
   "outputs": [
    {
     "name": "stdout",
     "output_type": "stream",
     "text": [
      "+----------+-------------------+-------------------+-------------------+\n",
      "|station_id|num_bikes_available|num_docks_available|          timestamp|\n",
      "+----------+-------------------+-------------------+-------------------+\n",
      "|        10|                  7|                  8|2014-12-30 15:37:02|\n",
      "|        10|                  7|                  8|2014-12-30 15:35:02|\n",
      "|        10|                  7|                  8|2014-12-30 15:34:02|\n",
      "|        10|                  7|                  8|2014-12-30 15:33:02|\n",
      "|        10|                  7|                  8|2014-12-30 15:32:02|\n",
      "+----------+-------------------+-------------------+-------------------+\n",
      "only showing top 5 rows\n",
      "\n"
     ]
    }
   ],
   "source": [
    "status_df.show(5)"
   ]
  },
  {
   "cell_type": "code",
   "execution_count": 12,
   "metadata": {},
   "outputs": [
    {
     "name": "stdout",
     "output_type": "stream",
     "text": [
      "+----------+-------------------+-------------------+-------------------+\n",
      "|station_id|num_bikes_available|num_docks_available|          timestamp|\n",
      "+----------+-------------------+-------------------+-------------------+\n",
      "|        10|                  9|                  6|2014-09-01 00:00:03|\n",
      "|        10|                  9|                  6|2014-09-01 00:01:02|\n",
      "|        10|                  9|                  6|2014-09-01 00:02:02|\n",
      "|        10|                  9|                  6|2014-09-01 00:03:03|\n",
      "|        10|                  9|                  6|2014-09-01 00:04:02|\n",
      "+----------+-------------------+-------------------+-------------------+\n",
      "only showing top 5 rows\n",
      "\n"
     ]
    }
   ],
   "source": [
    "status_df.filter('station_id == 10').orderBy('timestamp').show(5)"
   ]
  },
  {
   "cell_type": "markdown",
   "metadata": {},
   "source": [
    "# Return the current and previous number of bike at station_id, 10 at each time data was collected order by timestamp."
   ]
  },
  {
   "cell_type": "code",
   "execution_count": 13,
   "metadata": {},
   "outputs": [],
   "source": [
    "from pyspark.sql.window import Window\n",
    "from pyspark.sql.functions import *\n"
   ]
  },
  {
   "cell_type": "code",
   "execution_count": 14,
   "metadata": {},
   "outputs": [
    {
     "name": "stdout",
     "output_type": "stream",
     "text": [
      "+----------+-------------------+-------------------+-----------------------------------------------------------------------------------------------------------------------+\n",
      "|station_id|          timestamp|num_bikes_available|lag(num_bikes_available, 1, NULL) OVER (PARTITION BY station_id ORDER BY timestamp ASC NULLS FIRST unspecifiedframe$())|\n",
      "+----------+-------------------+-------------------+-----------------------------------------------------------------------------------------------------------------------+\n",
      "|        10|2014-09-01 00:00:03|                  9|                                                                                                                   null|\n",
      "|        10|2014-09-01 00:01:02|                  9|                                                                                                                      9|\n",
      "|        10|2014-09-01 00:02:02|                  9|                                                                                                                      9|\n",
      "|        10|2014-09-01 00:03:03|                  9|                                                                                                                      9|\n",
      "|        10|2014-09-01 00:04:02|                  9|                                                                                                                      9|\n",
      "+----------+-------------------+-------------------+-----------------------------------------------------------------------------------------------------------------------+\n",
      "only showing top 5 rows\n",
      "\n"
     ]
    }
   ],
   "source": [
    "status_df.filter('station_id == 10').\\\n",
    "        select('station_id', 'timestamp','num_bikes_available',lag('num_bikes_available', 1).\\\n",
    "               over(Window.partitionBy('station_id').orderBy('timestamp'))).show(5)\n",
    "#                                             lag('num_bikes_available', 1).over(Window.partitionBy('station_id')\\\n",
    "#                                                                                .orderBy('timestamp')).show(5))"
   ]
  },
  {
   "cell_type": "markdown",
   "metadata": {},
   "source": [
    "# Return the current and next number of bike at station_id, 10 at each time data was collected order by timestamp.\n"
   ]
  },
  {
   "cell_type": "code",
   "execution_count": 16,
   "metadata": {},
   "outputs": [
    {
     "name": "stdout",
     "output_type": "stream",
     "text": [
      "+----------+-------------------+-------------------+------------------------------------------------------------------------------------------------------------------------+\n",
      "|station_id|          timestamp|num_bikes_available|lead(num_bikes_available, 1, NULL) OVER (PARTITION BY station_id ORDER BY timestamp ASC NULLS FIRST unspecifiedframe$())|\n",
      "+----------+-------------------+-------------------+------------------------------------------------------------------------------------------------------------------------+\n",
      "|        10|2014-09-01 00:00:03|                  9|                                                                                                                       9|\n",
      "|        10|2014-09-01 00:01:02|                  9|                                                                                                                       9|\n",
      "|        10|2014-09-01 00:02:02|                  9|                                                                                                                       9|\n",
      "|        10|2014-09-01 00:03:03|                  9|                                                                                                                       9|\n",
      "|        10|2014-09-01 00:04:02|                  9|                                                                                                                       9|\n",
      "+----------+-------------------+-------------------+------------------------------------------------------------------------------------------------------------------------+\n",
      "only showing top 5 rows\n",
      "\n"
     ]
    }
   ],
   "source": [
    "status_df.filter('station_id == 10').select('station_id', 'timestamp','num_bikes_available',\\\n",
    "                                            lead('num_bikes_available', 1).over(Window.partitionBy('station_id')\\\n",
    "                                                                               .orderBy('timestamp'))).show(5)"
   ]
  },
  {
   "cell_type": "markdown",
   "metadata": {},
   "source": [
    "# EXample 3"
   ]
  },
  {
   "cell_type": "code",
   "execution_count": 22,
   "metadata": {},
   "outputs": [],
   "source": [
    "from pyspark.sql import SparkSession\n",
    "from pyspark.sql.types import *\n",
    "\n",
    "def IntegerSafe(value): # In case there are non-integer type to be converted.\n",
    "    try:\n",
    "        return int(value)\n",
    "    except ValueError:\n",
    "        return None\n",
    "\n",
    "ss = SparkSession.builder.getOrCreate()\n",
    "sc = ss.sparkContext\n",
    "\n",
    "\n",
    "business = sc.textFile(\"../Data/filtered_registered_business_sf.csv\")\\\n",
    "             .map(lambda x : x.split(','))\\\n",
    "             .map(lambda x : (IntegerSafe(x[0]), x[1], x[2], x[3], x[4]))\n",
    "              \n",
    "\n",
    "schema = StructType([ StructField(\"zip\", IntegerType(), True),\n",
    "                      StructField(\"name\", StringType(), False),\n",
    "                      StructField(\"street\", StringType(), True),\n",
    "                      StructField(\"city\", StringType(), True),\n",
    "                      StructField(\"state\", StringType(), True)\n",
    "                    ])\n",
    "\n",
    "business_df = ss.createDataFrame(business, schema)"
   ]
  },
  {
   "cell_type": "markdown",
   "metadata": {},
   "source": [
    "# Create a UDF called check_sf which checks whether a given value contains “San Francisco” or “SF”."
   ]
  },
  {
   "cell_type": "code",
   "execution_count": 23,
   "metadata": {},
   "outputs": [],
   "source": [
    "from pyspark.sql.functions import * "
   ]
  },
  {
   "cell_type": "code",
   "execution_count": 24,
   "metadata": {},
   "outputs": [],
   "source": [
    "check_sf = udf(lambda x: ('San Francisco' in x) or ('SF' in x), BooleanType())"
   ]
  },
  {
   "cell_type": "code",
   "execution_count": 26,
   "metadata": {},
   "outputs": [
    {
     "name": "stdout",
     "output_type": "stream",
     "text": [
      "+--------------------+-------------+--------------+\n",
      "|                name|         city|<lambda>(city)|\n",
      "+--------------------+-------------+--------------+\n",
      "|   Tournahu George L|San Francisco|          true|\n",
      "|Stephens Institut...|San Francisco|          true|\n",
      "|Stephens Institut...|San Francisco|          true|\n",
      "|Stephens Institut...|San Francisco|          true|\n",
      "|Stephens Institut...|San Francisco|          true|\n",
      "+--------------------+-------------+--------------+\n",
      "only showing top 5 rows\n",
      "\n"
     ]
    }
   ],
   "source": [
    "business_df.select('name', 'city', check_sf('city')).show(5)"
   ]
  },
  {
   "cell_type": "code",
   "execution_count": 27,
   "metadata": {},
   "outputs": [],
   "source": [
    "def sf(x):\n",
    "    if ((\"San Francisco\" in x) or (\"SF\" in x)):\n",
    "        return True\n",
    "    else :\n",
    "        return False"
   ]
  },
  {
   "cell_type": "code",
   "execution_count": 30,
   "metadata": {},
   "outputs": [],
   "source": [
    "check_sf_udf = udf(sf)"
   ]
  },
  {
   "cell_type": "code",
   "execution_count": 33,
   "metadata": {},
   "outputs": [
    {
     "name": "stdout",
     "output_type": "stream",
     "text": [
      "+--------------------+-------------+-------------+\n",
      "|                name|         city|San Francisco|\n",
      "+--------------------+-------------+-------------+\n",
      "|   Tournahu George L|San Francisco|         true|\n",
      "|Stephens Institut...|San Francisco|         true|\n",
      "|Stephens Institut...|San Francisco|         true|\n",
      "|Stephens Institut...|San Francisco|         true|\n",
      "|Stephens Institut...|San Francisco|         true|\n",
      "+--------------------+-------------+-------------+\n",
      "only showing top 5 rows\n",
      "\n"
     ]
    }
   ],
   "source": [
    "business_df.select('name', 'city', check_sf_udf('city').alias('San Francisco')).show(5)"
   ]
  },
  {
   "cell_type": "markdown",
   "metadata": {},
   "source": [
    "# Example 4 Aggregate Function"
   ]
  },
  {
   "cell_type": "markdown",
   "metadata": {},
   "source": [
    "\n",
    "# Calculate min, max, average num_bike_available per station_id."
   ]
  },
  {
   "cell_type": "code",
   "execution_count": 36,
   "metadata": {},
   "outputs": [
    {
     "name": "stdout",
     "output_type": "stream",
     "text": [
      "+----------+------------------------+\n",
      "|station_id|min(num_bikes_available)|\n",
      "+----------+------------------------+\n",
      "|        10|                       0|\n",
      "|        11|                       0|\n",
      "+----------+------------------------+\n",
      "\n"
     ]
    }
   ],
   "source": [
    "status_df.groupBy('station_id').min('num_bikes_available').show(5)"
   ]
  },
  {
   "cell_type": "code",
   "execution_count": 40,
   "metadata": {},
   "outputs": [
    {
     "name": "stdout",
     "output_type": "stream",
     "text": [
      "+----------+---------+---------+-----------------+\n",
      "|station_id|min_bikes|max_bikes|        avg_bikes|\n",
      "+----------+---------+---------+-----------------+\n",
      "|        10|        0|       15|5.931166125246599|\n",
      "|        11|        0|       19|7.768450198057421|\n",
      "+----------+---------+---------+-----------------+\n",
      "\n"
     ]
    }
   ],
   "source": [
    "status_df.groupBy('station_id').agg(min('num_bikes_available').alias('min_bikes'), max('num_bikes_available').alias('max_bikes'),\\\n",
    "                                    avg('num_bikes_available').alias('avg_bikes')).show(5)"
   ]
  },
  {
   "cell_type": "code",
   "execution_count": 41,
   "metadata": {},
   "outputs": [],
   "source": [
    "# Example 5 Join Types"
   ]
  },
  {
   "cell_type": "code",
   "execution_count": 44,
   "metadata": {},
   "outputs": [],
   "source": [
    "d = sc.parallelize([(\"Alice\",18),(\"Bob\",20), (\"Tom\",40)])\n"
   ]
  },
  {
   "cell_type": "code",
   "execution_count": 45,
   "metadata": {},
   "outputs": [],
   "source": [
    "d2 = sc.parallelize([(\"Bob\",85), (None,80)])"
   ]
  },
  {
   "cell_type": "code",
   "execution_count": 46,
   "metadata": {},
   "outputs": [],
   "source": [
    "schema1 = StructType([\n",
    "StructField(\"name\", StringType(), True),\n",
    "StructField(\"age\", IntegerType(), True)])\n",
    "\n",
    "schema2 = StructType([\n",
    "StructField(\"name\", StringType(), True),\n",
    "StructField(\"height\", IntegerType(), True)])\n",
    "\n"
   ]
  },
  {
   "cell_type": "code",
   "execution_count": 48,
   "metadata": {},
   "outputs": [
    {
     "name": "stdout",
     "output_type": "stream",
     "text": [
      "+-----+---+\n",
      "| name|age|\n",
      "+-----+---+\n",
      "|Alice| 18|\n",
      "|  Bob| 20|\n",
      "|  Tom| 40|\n",
      "+-----+---+\n",
      "\n",
      "+----+------+\n",
      "|name|height|\n",
      "+----+------+\n",
      "| Bob|    85|\n",
      "|null|    80|\n",
      "+----+------+\n",
      "\n"
     ]
    }
   ],
   "source": [
    "df = ss.createDataFrame(d, schema1)\n",
    "df2 = ss.createDataFrame(d2, schema2)\n",
    "\n",
    "df.show()\n",
    "df2.show()"
   ]
  },
  {
   "cell_type": "markdown",
   "metadata": {},
   "source": [
    "# Inner Join"
   ]
  },
  {
   "cell_type": "code",
   "execution_count": 52,
   "metadata": {},
   "outputs": [
    {
     "name": "stdout",
     "output_type": "stream",
     "text": [
      "+----+---+------+\n",
      "|name|age|height|\n",
      "+----+---+------+\n",
      "| Bob| 20|    85|\n",
      "+----+---+------+\n",
      "\n"
     ]
    }
   ],
   "source": [
    "df.join(df2, 'name', 'inner').show()"
   ]
  },
  {
   "cell_type": "code",
   "execution_count": 54,
   "metadata": {},
   "outputs": [
    {
     "name": "stdout",
     "output_type": "stream",
     "text": [
      "+----+---+------+\n",
      "|name|age|height|\n",
      "+----+---+------+\n",
      "| Bob| 20|    85|\n",
      "+----+---+------+\n",
      "\n"
     ]
    }
   ],
   "source": [
    "df.join(df2, 'name').show() # inner is default "
   ]
  },
  {
   "cell_type": "code",
   "execution_count": 56,
   "metadata": {},
   "outputs": [
    {
     "name": "stdout",
     "output_type": "stream",
     "text": [
      "+----+------+---+\n",
      "|name|height|age|\n",
      "+----+------+---+\n",
      "| Bob|    85| 20|\n",
      "+----+------+---+\n",
      "\n"
     ]
    }
   ],
   "source": [
    "df.join(df2, df.name == df2.name).select(df.name, df2.height, df.age).show()"
   ]
  },
  {
   "cell_type": "markdown",
   "metadata": {},
   "source": [
    "# Outer Join "
   ]
  },
  {
   "cell_type": "code",
   "execution_count": 58,
   "metadata": {},
   "outputs": [
    {
     "name": "stdout",
     "output_type": "stream",
     "text": [
      "+-----+----+------+\n",
      "| name| age|height|\n",
      "+-----+----+------+\n",
      "|  Tom|  40|  null|\n",
      "| null|null|    80|\n",
      "|  Bob|  20|    85|\n",
      "|Alice|  18|  null|\n",
      "+-----+----+------+\n",
      "\n"
     ]
    }
   ],
   "source": [
    "df.join(df2, 'name', 'outer').show()"
   ]
  },
  {
   "cell_type": "code",
   "execution_count": 62,
   "metadata": {},
   "outputs": [
    {
     "name": "stdout",
     "output_type": "stream",
     "text": [
      "+----+------+\n",
      "|name|height|\n",
      "+----+------+\n",
      "| Bob|    85|\n",
      "|null|    80|\n",
      "+----+------+\n",
      "\n"
     ]
    }
   ],
   "source": [
    "# df.show()\n",
    "df2.show()"
   ]
  },
  {
   "cell_type": "markdown",
   "metadata": {},
   "source": [
    "# LeftOuter"
   ]
  },
  {
   "cell_type": "code",
   "execution_count": 64,
   "metadata": {},
   "outputs": [
    {
     "name": "stdout",
     "output_type": "stream",
     "text": [
      "+-----+---+------+\n",
      "| name|age|height|\n",
      "+-----+---+------+\n",
      "|  Tom| 40|  null|\n",
      "|  Bob| 20|    85|\n",
      "|Alice| 18|  null|\n",
      "+-----+---+------+\n",
      "\n"
     ]
    }
   ],
   "source": [
    "df.join(df2, 'name', 'left_outer').show()"
   ]
  },
  {
   "cell_type": "markdown",
   "metadata": {},
   "source": [
    "# Right Outer "
   ]
  },
  {
   "cell_type": "code",
   "execution_count": 66,
   "metadata": {},
   "outputs": [
    {
     "name": "stdout",
     "output_type": "stream",
     "text": [
      "+----+----+------+\n",
      "|name| age|height|\n",
      "+----+----+------+\n",
      "|null|null|    80|\n",
      "| Bob|  20|    85|\n",
      "+----+----+------+\n",
      "\n"
     ]
    }
   ],
   "source": [
    "df.join(df2,'name', 'right_outer').show()"
   ]
  },
  {
   "cell_type": "markdown",
   "metadata": {},
   "source": [
    "# Left Semi Join "
   ]
  },
  {
   "cell_type": "code",
   "execution_count": 73,
   "metadata": {},
   "outputs": [
    {
     "name": "stdout",
     "output_type": "stream",
     "text": [
      "+----+---+\n",
      "|name|age|\n",
      "+----+---+\n",
      "| Bob| 20|\n",
      "+----+---+\n",
      "\n"
     ]
    }
   ],
   "source": [
    "df.join(df2, 'name', 'leftsemi').show() "
   ]
  },
  {
   "cell_type": "code",
   "execution_count": null,
   "metadata": {},
   "outputs": [],
   "source": []
  },
  {
   "cell_type": "markdown",
   "metadata": {},
   "source": [
    "# Example 6 Apply Inner left_outer and right outer Joins supervisor and bussiness "
   ]
  },
  {
   "cell_type": "markdown",
   "metadata": {},
   "source": [
    "# inner joins"
   ]
  },
  {
   "cell_type": "code",
   "execution_count": 76,
   "metadata": {},
   "outputs": [],
   "source": [
    "supervisor = sc.textFile(\"../Data/supervisor_sf.csv\")\\\n",
    "            .map(lambda x: x.split(',')).map(lambda x: (IntegerSafe(x[0]), IntegerSafe(x[1])))\n",
    "schema = StructType([StructField('zip', IntegerType(), False),\n",
    "                        StructField('id', IntegerType(), False)])\n",
    "supervisor_df = ss.createDataFrame(supervisor, schema)"
   ]
  },
  {
   "cell_type": "code",
   "execution_count": 77,
   "metadata": {},
   "outputs": [
    {
     "name": "stdout",
     "output_type": "stream",
     "text": [
      "+-----+--------------------+--------------------+-------------+-----+---+\n",
      "|  zip|                name|              street|         city|state| id|\n",
      "+-----+--------------------+--------------------+-------------+-----+---+\n",
      "|94109|Stephens Institut...|1835-49 Van Ness Ave|San Francisco|   CA|  2|\n",
      "|94109|Stephens Institut...|1835-49 Van Ness Ave|San Francisco|   CA|  6|\n",
      "|94109|Stephens Institut...|1835-49 Van Ness Ave|San Francisco|   CA|  3|\n",
      "|94109|Stephens Institut...|1835-49 Van Ness Ave|San Francisco|   CA|  5|\n",
      "|94109|Stephens Institut...|        1055 Pine St|San Francisco|   CA|  2|\n",
      "+-----+--------------------+--------------------+-------------+-----+---+\n",
      "only showing top 5 rows\n",
      "\n"
     ]
    }
   ],
   "source": [
    "business_df.join(supervisor_df, 'zip').show(5)"
   ]
  },
  {
   "cell_type": "markdown",
   "metadata": {},
   "source": [
    "# Left outer "
   ]
  },
  {
   "cell_type": "code",
   "execution_count": 78,
   "metadata": {},
   "outputs": [
    {
     "name": "stdout",
     "output_type": "stream",
     "text": [
      "+-----+--------------------+-------------------+-----------+-----+----+\n",
      "|  zip|                name|             street|       city|state|  id|\n",
      "+-----+--------------------+-------------------+-----------+-----+----+\n",
      "| 2142|        Trecler Alan|        1 Rogers St|  Cambridge|   MA|null|\n",
      "| 2142|Aegerion Pharmace...|        101 Main St|  Cambridge|   MA|null|\n",
      "| 8086|         Aramsco Inc| 1480 Grandview Ave|  Thorofare|   NJ|null|\n",
      "|18051|Five Thousand For...|       8020 Mine St|Fogelsville|   PA|null|\n",
      "|21220|Social Solutions ...|425 Williams Ct 100|  Baltimore|   MD|null|\n",
      "+-----+--------------------+-------------------+-----------+-----+----+\n",
      "only showing top 5 rows\n",
      "\n"
     ]
    }
   ],
   "source": [
    "business_df.join(supervisor_df, 'zip','left_outer').show(5)"
   ]
  },
  {
   "cell_type": "markdown",
   "metadata": {},
   "source": [
    "# Right outer"
   ]
  },
  {
   "cell_type": "code",
   "execution_count": 79,
   "metadata": {},
   "outputs": [
    {
     "name": "stdout",
     "output_type": "stream",
     "text": [
      "+-----+--------------------+--------------------+-------------+-----+---+\n",
      "|  zip|                name|              street|         city|state| id|\n",
      "+-----+--------------------+--------------------+-------------+-----+---+\n",
      "|94109|Stephens Institut...|1835-49 Van Ness Ave|San Francisco|   CA|  2|\n",
      "|94109|Stephens Institut...|        1055 Pine St|San Francisco|   CA|  2|\n",
      "|94109|     Alioto F Co Inc|    440 Jefferson St|San Francisco|   CA|  2|\n",
      "|94109|     Haines Robert D|   786-792 Sutter St|San Francisco|   CA|  2|\n",
      "|94109|Avis Rent A Car S...|         675 Post St|San Francisco|   CA|  2|\n",
      "+-----+--------------------+--------------------+-------------+-----+---+\n",
      "only showing top 5 rows\n",
      "\n"
     ]
    }
   ],
   "source": [
    "business_df.join(supervisor_df, 'zip','right_outer').show(5)"
   ]
  },
  {
   "cell_type": "markdown",
   "metadata": {},
   "source": [
    "# Left-semi"
   ]
  },
  {
   "cell_type": "code",
   "execution_count": 102,
   "metadata": {},
   "outputs": [
    {
     "name": "stdout",
     "output_type": "stream",
     "text": [
      "ERROR! Session/line number was not unique in database. History logging moved to new session 605\n",
      "+-----+--------------------+--------------------+-------------+-----+\n",
      "|  zip|                name|              street|         city|state|\n",
      "+-----+--------------------+--------------------+-------------+-----+\n",
      "|94109|Stephens Institut...|1835-49 Van Ness Ave|San Francisco|   CA|\n",
      "|94109|Stephens Institut...|        1055 Pine St|San Francisco|   CA|\n",
      "|94109|     Alioto F Co Inc|    440 Jefferson St|San Francisco|   CA|\n",
      "|94109|     Haines Robert D|   786-792 Sutter St|San Francisco|   CA|\n",
      "|94109|Avis Rent A Car S...|         675 Post St|San Francisco|   CA|\n",
      "+-----+--------------------+--------------------+-------------+-----+\n",
      "only showing top 5 rows\n",
      "\n"
     ]
    }
   ],
   "source": [
    "business_df.join(supervisor_df, 'zip','leftsemi').show(5)"
   ]
  },
  {
   "cell_type": "code",
   "execution_count": 103,
   "metadata": {},
   "outputs": [
    {
     "name": "stdout",
     "output_type": "stream",
     "text": [
      "+-----+--------------------+-------------------+-----------+-----+----+\n",
      "|  zip|                name|             street|       city|state|  id|\n",
      "+-----+--------------------+-------------------+-----------+-----+----+\n",
      "| 2142|        Trecler Alan|        1 Rogers St|  Cambridge|   MA|null|\n",
      "| 2142|Aegerion Pharmace...|        101 Main St|  Cambridge|   MA|null|\n",
      "| 8086|         Aramsco Inc| 1480 Grandview Ave|  Thorofare|   NJ|null|\n",
      "|18051|Five Thousand For...|       8020 Mine St|Fogelsville|   PA|null|\n",
      "|21220|Social Solutions ...|425 Williams Ct 100|  Baltimore|   MD|null|\n",
      "+-----+--------------------+-------------------+-----------+-----+----+\n",
      "only showing top 5 rows\n",
      "\n"
     ]
    }
   ],
   "source": [
    "business_df.join(supervisor_df, 'zip','outer').show(5)"
   ]
  },
  {
   "cell_type": "markdown",
   "metadata": {},
   "source": [
    "# Example 7 register_DF "
   ]
  },
  {
   "cell_type": "markdown",
   "metadata": {},
   "source": [
    "# Save Supservisor DataFrame as “Supervisor” and Business DataFrame as “Business”. And find supervisor id for \"Holbert Deneice M\""
   ]
  },
  {
   "cell_type": "code",
   "execution_count": 105,
   "metadata": {},
   "outputs": [
    {
     "name": "stdout",
     "output_type": "stream",
     "text": [
      "ERROR! Session/line number was not unique in database. History logging moved to new session 606\n"
     ]
    }
   ],
   "source": [
    "business_df.write.saveAsTable('Business')"
   ]
  },
  {
   "cell_type": "code",
   "execution_count": 106,
   "metadata": {},
   "outputs": [],
   "source": [
    "supervisor_df.write.saveAsTable('supervisor')"
   ]
  },
  {
   "cell_type": "code",
   "execution_count": 107,
   "metadata": {},
   "outputs": [
    {
     "name": "stdout",
     "output_type": "stream",
     "text": [
      "ERROR! Session/line number was not unique in database. History logging moved to new session 607\n"
     ]
    }
   ],
   "source": [
    "ss.sql('select id from Business JOIN supervisor on Business.zip == supervisor.zip\\\n",
    "    where name=\"Holbert Deneice M\"').show()"
   ]
  },
  {
   "cell_type": "markdown",
   "metadata": {},
   "source": [
    "# Example 8 Kil the spark context and re-read"
   ]
  },
  {
   "cell_type": "code",
   "execution_count": 97,
   "metadata": {},
   "outputs": [],
   "source": [
    "# It will throw an error "
   ]
  },
  {
   "cell_type": "markdown",
   "metadata": {},
   "source": [
    "# Save Supservisor DataFrame as “Super” and Business DataFrame as “Busin”."
   ]
  },
  {
   "cell_type": "code",
   "execution_count": 101,
   "metadata": {},
   "outputs": [
    {
     "name": "stdout",
     "output_type": "stream",
     "text": [
      "ERROR! Session/line number was not unique in database. History logging moved to new session 601\n"
     ]
    }
   ],
   "source": [
    "# business_df.write.option('path','/Users/efar/Downloads/spark/week-2').saveAsTable('Businesses')"
   ]
  },
  {
   "cell_type": "code",
   "execution_count": 108,
   "metadata": {},
   "outputs": [],
   "source": [
    "# supervisor_df.write.option('path','/Users/efar/Downloads/spark/week-2').saveAsTable('Super')"
   ]
  },
  {
   "cell_type": "code",
   "execution_count": 109,
   "metadata": {},
   "outputs": [],
   "source": [
    "# ss.sql('select id from Business JOIN supervisor on Businesses.zip == Super.zip\\\n",
    "#     where name=\"Holbert Deneice M\"').show()"
   ]
  },
  {
   "cell_type": "code",
   "execution_count": null,
   "metadata": {},
   "outputs": [],
   "source": []
  },
  {
   "cell_type": "markdown",
   "metadata": {},
   "source": [
    "# Example 9 "
   ]
  },
  {
   "cell_type": "markdown",
   "metadata": {},
   "source": [
    "# Read world_bank_project.json as a DataFrame."
   ]
  },
  {
   "cell_type": "code",
   "execution_count": 110,
   "metadata": {},
   "outputs": [
    {
     "name": "stdout",
     "output_type": "stream",
     "text": [
      "ERROR! Session/line number was not unique in database. History logging moved to new session 610\n"
     ]
    }
   ],
   "source": [
    "world_bank_prj = ss.read.json(\"../Data/world_bank_project.json\")"
   ]
  },
  {
   "cell_type": "code",
   "execution_count": 112,
   "metadata": {},
   "outputs": [
    {
     "name": "stdout",
     "output_type": "stream",
     "text": [
      "+--------------------+----------+--------------------+--------------------+--------------------+--------------------+--------------------+-----------+--------------------+------------------+--------------------+------------------------+--------+-----------+-------+----------+--------------------+--------------------+----------------+---------------+--------------------+--------------------+--------------------+--------------------+-----------+--------+--------------------+---------------+--------------------+--------------------+--------------------+--------------------+--------------------+--------------------+--------------------+--------------------+--------------------+--------------------+--------------------+--------------------+-----------+------+------+--------------------+--------------------+--------------------+-----------+---------+------------+--------------------+\n",
      "|                 _id|approvalfy|board_approval_month|   boardapprovaldate|            borrower|         closingdate|    country_namecode|countrycode|         countryname|  countryshortname|               docty|envassesmentcategorycode|grantamt|ibrdcommamt|     id|idacommamt|           impagency|        lendinginstr|lendinginstrtype|lendprojectcost| majorsector_percent|   mjsector_namecode|             mjtheme|    mjtheme_namecode|mjthemecode|prodline|        prodlinetext|productlinetype|    project_abstract|        project_name|         projectdocs|projectfinancialtype|projectstatusdisplay|          regionname|              sector|             sector1|             sector2|             sector3|             sector4|     sector_namecode| sectorcode|source|status|supplementprojectflg|              theme1|      theme_namecode|  themecode| totalamt|totalcommamt|                 url|\n",
      "+--------------------+----------+--------------------+--------------------+--------------------+--------------------+--------------------+-----------+--------------------+------------------+--------------------+------------------------+--------+-----------+-------+----------+--------------------+--------------------+----------------+---------------+--------------------+--------------------+--------------------+--------------------+-----------+--------+--------------------+---------------+--------------------+--------------------+--------------------+--------------------+--------------------+--------------------+--------------------+--------------------+--------------------+--------------------+--------------------+--------------------+-----------+------+------+--------------------+--------------------+--------------------+-----------+---------+------------+--------------------+\n",
      "|[52b213b38594d8a2...|      1999|            November|2013-11-12T00:00:00Z|FEDERAL DEMOCRATI...|2018-07-07T00:00:00Z|Federal Democrati...|         ET|Federal Democrati...|          Ethiopia|Project Informati...|                       C|       0|          0|P129828| 130000000|MINISTRY OF EDUCA...|Investment Projec...|              IN|      550000000|[[Education, 46],...|[[EX, Education],...| [Human development]|[[8, Human develo...|       8,11|      PE|            IBRD/IDA|              L|[The development ...|Ethiopia General ...|[[28-AUG-2013, PI...|                 IDA|              Active|              Africa|[[Primary educati...|[Primary educatio...|[Secondary educat...|[Public administr...|[Tertiary educati...|[[EP, Primary edu...|ET,BS,ES,EP|  IBRD|Active|                   N|[Education for al...|[[65, Education f...|         65|130000000|   130000000|http://www.worldb...|\n",
      "|[52b213b38594d8a2...|      2015|            November|2013-11-04T00:00:00Z|GOVERNMENT OF TUN...|                null|Republic of Tunis...|         TN| Republic of Tunisia|           Tunisia|Project Informati...|                       C| 4700000|          0|P144674|         0| MINISTRY OF FINANCE|Specific Investme...|              IN|        5700000|[[Public Administ...|[[BX, Public Admi...|[Economic managem...|[[1, Economic man...|        1,6|      RE|Recipient Execute...|              L|                null|TN: DTF Social Pr...|[[29-MAR-2013, PI...|               OTHER|              Active|Middle East and N...|[[Public administ...|[Public administr...|[General public a...|                null|                null|[[BS, Public admi...|      BZ,BS|  IBRD|Active|                   N|[Other economic m...|[[24, Other econo...|      54,24|        0|     4700000|http://www.worldb...|\n",
      "|[52b213b38594d8a2...|      2014|            November|2013-11-01T00:00:00Z|MINISTRY OF FINAN...|                null|         Tuvalu!$!TV|         TV|              Tuvalu|            Tuvalu|Resettlement Plan...|                       B|       0|          0|P145310|   6060000|MINISTRY OF TRANS...|Investment Projec...|              IN|        6060000|[[Transportation,...|[[TX, Transportat...|[Trade and integr...|[[5, Trade and in...|   5,2,11,6|      PE|            IBRD/IDA|              L|                null|Tuvalu Aviation I...|[[21-OCT-2013, RP...|                 IDA|              Active|East Asia and Pac...|[[Rural and Inter...|[Rural and Inter-...|                null|                null|                null|[[TI, Rural and I...|         TI|  IBRD|Active|                   Y|[Regional integra...|[[47, Regional in...|52,81,25,47|  6060000|     6060000|http://www.worldb...|\n",
      "|[52b213b38594d8a2...|      2014|             October|2013-10-31T00:00:00Z|MIN. OF PLANNING ...|                null|Republic of Yemen...|         RY|   Republic of Yemen|Yemen, Republic of|Procurement Plan,...|                       C| 1500000|          0|P144665|         0|LABOR INTENSIVE P...|Technical Assista...|              IN|        1500000|[[Health and othe...|[[JX, Health and ...|[Social dev/gende...|[[7, Social dev/g...|        7,7|      RE|Recipient Execute...|              L|                null|Gov't and Civil S...|[[15-MAY-2013, PR...|               OTHER|              Active|Middle East and N...|[[Other social se...|[Other social ser...|                null|                null|                null|[[JB, Other socia...|         JB|  IBRD|Active|                   N|[Participation an...|[[57, Participati...|      59,57|        0|     1500000|http://www.worldb...|\n",
      "|[52b213b38594d8a2...|      2014|             October|2013-10-31T00:00:00Z| MINISTRY OF FINANCE|2019-04-30T00:00:00Z|Kingdom of Lesoth...|         LS|  Kingdom of Lesotho|           Lesotho|Project Informati...|                       B|       0|          0|P144933|  13100000|MINISTRY OF TRADE...|Investment Projec...|              IN|       15000000|[[Industry and tr...|[[YX, Industry an...|[Trade and integr...|[[5, Trade and in...|        5,4|      PE|            IBRD/IDA|              L|[The development ...|Second Private Se...|[[06-SEP-2013, PI...|                 IDA|              Active|              Africa|[[General industr...|[General industry...|[Other industry, 40]|   [SME Finance, 10]|                null|[[YZ, General ind...|   FH,YW,YZ|  IBRD|Active|                   N|[Export developme...|[[45, Export deve...|      41,45| 13100000|    13100000|http://www.worldb...|\n",
      "+--------------------+----------+--------------------+--------------------+--------------------+--------------------+--------------------+-----------+--------------------+------------------+--------------------+------------------------+--------+-----------+-------+----------+--------------------+--------------------+----------------+---------------+--------------------+--------------------+--------------------+--------------------+-----------+--------+--------------------+---------------+--------------------+--------------------+--------------------+--------------------+--------------------+--------------------+--------------------+--------------------+--------------------+--------------------+--------------------+--------------------+-----------+------+------+--------------------+--------------------+--------------------+-----------+---------+------------+--------------------+\n",
      "only showing top 5 rows\n",
      "\n"
     ]
    }
   ],
   "source": [
    "world_bank_prj.show(5)"
   ]
  },
  {
   "cell_type": "code",
   "execution_count": 113,
   "metadata": {},
   "outputs": [
    {
     "name": "stdout",
     "output_type": "stream",
     "text": [
      "ERROR! Session/line number was not unique in database. History logging moved to new session 611\n"
     ]
    }
   ],
   "source": [
    "world_bank_prj.write.json(\"world_bank_project_2\")"
   ]
  },
  {
   "cell_type": "markdown",
   "metadata": {},
   "source": [
    "# Example 10 \n",
    "# Read filtered_registered_business_sf.csv with infering schema."
   ]
  },
  {
   "cell_type": "code",
   "execution_count": 114,
   "metadata": {},
   "outputs": [],
   "source": [
    "business_df = ss.read.csv(\n",
    "                          \"../Data/filtered_registered_business_sf.csv\",\n",
    "                          inferSchema=True)\n"
   ]
  },
  {
   "cell_type": "code",
   "execution_count": 115,
   "metadata": {},
   "outputs": [
    {
     "name": "stdout",
     "output_type": "stream",
     "text": [
      "+-----+--------------------+--------------------+-------------+---+\n",
      "|  _c0|                 _c1|                 _c2|          _c3|_c4|\n",
      "+-----+--------------------+--------------------+-------------+---+\n",
      "|94123|   Tournahu George L|   3301 Broderick St|San Francisco| CA|\n",
      "|94124|Stephens Institut...|    2225 Jerrold Ave|San Francisco| CA|\n",
      "|94105|Stephens Institut...|180 New Montgomer...|San Francisco| CA|\n",
      "|94108|Stephens Institut...|       540 Powell St|San Francisco| CA|\n",
      "|94107|Stephens Institut...|     460 Townsend St|San Francisco| CA|\n",
      "+-----+--------------------+--------------------+-------------+---+\n",
      "only showing top 5 rows\n",
      "\n"
     ]
    }
   ],
   "source": [
    "business_df.show(5)"
   ]
  },
  {
   "cell_type": "code",
   "execution_count": 116,
   "metadata": {},
   "outputs": [],
   "source": [
    "from pyspark.sql.types import * "
   ]
  },
  {
   "cell_type": "code",
   "execution_count": 117,
   "metadata": {},
   "outputs": [],
   "source": [
    "business_schedma = StructType([StructField(\"zip\", IntegerType(), True), \n",
    "                         StructField(\"name\", StringType(), True),\n",
    "                         StructField(\"street\", StringType(), True), \n",
    "                         StructField(\"city\", StringType(), True),\n",
    "                         StructField(\"state\", StringType(), True)])\n"
   ]
  },
  {
   "cell_type": "code",
   "execution_count": 118,
   "metadata": {},
   "outputs": [],
   "source": [
    "business_df = ss.read.csv(\n",
    "                          \"../Data/filtered_registered_business_sf.csv\",\n",
    "                          schema=business_schedma)\n"
   ]
  },
  {
   "cell_type": "code",
   "execution_count": 119,
   "metadata": {},
   "outputs": [
    {
     "name": "stdout",
     "output_type": "stream",
     "text": [
      "+-----+--------------------+--------------------+-------------+-----+\n",
      "|  zip|                name|              street|         city|state|\n",
      "+-----+--------------------+--------------------+-------------+-----+\n",
      "|94123|   Tournahu George L|   3301 Broderick St|San Francisco|   CA|\n",
      "|94124|Stephens Institut...|    2225 Jerrold Ave|San Francisco|   CA|\n",
      "|94105|Stephens Institut...|180 New Montgomer...|San Francisco|   CA|\n",
      "|94108|Stephens Institut...|       540 Powell St|San Francisco|   CA|\n",
      "|94107|Stephens Institut...|     460 Townsend St|San Francisco|   CA|\n",
      "+-----+--------------------+--------------------+-------------+-----+\n",
      "only showing top 5 rows\n",
      "\n"
     ]
    }
   ],
   "source": [
    "business_df.show(5)"
   ]
  },
  {
   "cell_type": "code",
   "execution_count": 120,
   "metadata": {},
   "outputs": [],
   "source": [
    "business_df.write.csv(\"business_sf\")"
   ]
  },
  {
   "cell_type": "code",
   "execution_count": 121,
   "metadata": {},
   "outputs": [],
   "source": [
    "business_df.coalesce(1).write.csv(\"business_sf_2\")\n"
   ]
  },
  {
   "cell_type": "markdown",
   "metadata": {},
   "source": [
    "# Read Business and Supervisor parquet files generated from ex12"
   ]
  },
  {
   "cell_type": "code",
   "execution_count": 124,
   "metadata": {},
   "outputs": [
    {
     "name": "stdout",
     "output_type": "stream",
     "text": [
      "ERROR! Session/line number was not unique in database. History logging moved to new session 613\n"
     ]
    }
   ],
   "source": [
    "# business_df.write.saveAsTable('Busines')\n",
    "# business_df = ss.read.parquet(\"Busines\")"
   ]
  },
  {
   "cell_type": "code",
   "execution_count": null,
   "metadata": {},
   "outputs": [],
   "source": []
  }
 ],
 "metadata": {
  "kernelspec": {
   "display_name": "Python 3",
   "language": "python",
   "name": "python3"
  },
  "language_info": {
   "codemirror_mode": {
    "name": "ipython",
    "version": 3
   },
   "file_extension": ".py",
   "mimetype": "text/x-python",
   "name": "python",
   "nbconvert_exporter": "python",
   "pygments_lexer": "ipython3",
   "version": "3.8.3"
  }
 },
 "nbformat": 4,
 "nbformat_minor": 4
}
